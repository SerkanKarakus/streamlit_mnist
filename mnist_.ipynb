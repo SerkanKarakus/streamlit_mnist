{
 "cells": [
  {
   "cell_type": "code",
   "execution_count": 28,
   "metadata": {},
   "outputs": [
    {
     "name": "stdout",
     "output_type": "stream",
     "text": [
      "WARNING:tensorflow:Error in loading the saved optimizer state. As a result, your model is starting with a freshly initialized optimizer.\n",
      "Loaded keras_mnist1 from disk\n",
      "1/1 [==============================] - 0s 56ms/step\n"
     ]
    },
    {
     "name": "stderr",
     "output_type": "stream",
     "text": [
      "c:\\Users\\z004kxwu\\Anaconda3\\envs\\face_detect\\lib\\site-packages\\keras\\utils\\image_utils.py:409: UserWarning: grayscale is deprecated. Please use color_mode = \"grayscale\"\n",
      "  warnings.warn(\n"
     ]
    },
    {
     "data": {
      "text/plain": [
       "[6.4573490506976e-23,\n",
       " 1.7645468707749206e-15,\n",
       " 1.4249781384842496e-15,\n",
       " 1.2764585923823762e-18,\n",
       " 1.0,\n",
       " 7.173985526725407e-14,\n",
       " 1.1101805670986754e-15,\n",
       " 6.836566225241689e-14,\n",
       " 1.0120988030432118e-18,\n",
       " 6.419187691163522e-14]"
      ]
     },
     "execution_count": 28,
     "metadata": {},
     "output_type": "execute_result"
    }
   ],
   "source": [
    "from tensorflow.keras import Model\n",
    "from tensorflow.keras.models import load_model\n",
    "from tensorflow.keras.preprocessing import image\n",
    "\n",
    "loaded_model=load_model('mnist-model.h5')\n",
    "\n",
    "print(\"Loaded keras_mnist1 from disk\")\n",
    "img = image.load_img(path=\"4.jpeg\",grayscale=True,target_size=(28,28,1))\n",
    "img = image.img_to_array(img)\n",
    "test_img = img.reshape((1,784))\n",
    "\n",
    "img_class = loaded_model.predict(test_img)\n",
    "img_class[0].tolist()"
   ]
  },
  {
   "cell_type": "code",
   "execution_count": 2,
   "metadata": {},
   "outputs": [
    {
     "name": "stdout",
     "output_type": "stream",
     "text": [
      "WARNING:tensorflow:Error in loading the saved optimizer state. As a result, your model is starting with a freshly initialized optimizer.\n",
      "Loaded keras_mnist1 from disk\n"
     ]
    }
   ],
   "source": []
  },
  {
   "cell_type": "code",
   "execution_count": 14,
   "metadata": {},
   "outputs": [
    {
     "name": "stdout",
     "output_type": "stream",
     "text": [
      "1/1 [==============================] - 0s 22ms/step\n"
     ]
    },
    {
     "data": {
      "text/plain": [
       "4"
      ]
     },
     "execution_count": 14,
     "metadata": {},
     "output_type": "execute_result"
    }
   ],
   "source": []
  }
 ],
 "metadata": {
  "kernelspec": {
   "display_name": "Python 3.9.13 ('face_detect')",
   "language": "python",
   "name": "python3"
  },
  "language_info": {
   "codemirror_mode": {
    "name": "ipython",
    "version": 3
   },
   "file_extension": ".py",
   "mimetype": "text/x-python",
   "name": "python",
   "nbconvert_exporter": "python",
   "pygments_lexer": "ipython3",
   "version": "3.9.13"
  },
  "orig_nbformat": 4,
  "vscode": {
   "interpreter": {
    "hash": "738b4eaf2a266ef681d733a659790983631d207bbe684ed4bc9beb9a4aa659ba"
   }
  }
 },
 "nbformat": 4,
 "nbformat_minor": 2
}
